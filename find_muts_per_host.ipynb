{
 "cells": [
  {
   "cell_type": "code",
   "execution_count": 1,
   "id": "2ba8c0be",
   "metadata": {},
   "outputs": [],
   "source": [
    "import pandas as pd"
   ]
  },
  {
   "cell_type": "code",
   "execution_count": 3,
   "id": "7599655e",
   "metadata": {},
   "outputs": [],
   "source": [
    "muts_per_strain = pd.read_csv('mutations_per_strain.tsv', sep='\\t')"
   ]
  },
  {
   "cell_type": "code",
   "execution_count": 9,
   "id": "33874781",
   "metadata": {},
   "outputs": [],
   "source": [
    "muts_per_strain['has453F'] = muts_per_strain['aaSubstitutions'].str.contains(\"S:Y453F\", regex=False, na=False)"
   ]
  },
  {
   "cell_type": "code",
   "execution_count": 12,
   "id": "8487a680",
   "metadata": {},
   "outputs": [],
   "source": [
    "muts_per_strain['has501T'] = muts_per_strain['aaSubstitutions'].str.contains(\"S:N501T\", regex=False, na=False)"
   ]
  },
  {
   "cell_type": "code",
   "execution_count": 13,
   "id": "ba920a64",
   "metadata": {},
   "outputs": [],
   "source": [
    "muts_per_strain['has486L'] = muts_per_strain['aaSubstitutions'].str.contains(\"S:F486L\", regex=False, na=False)"
   ]
  },
  {
   "cell_type": "code",
   "execution_count": 28,
   "id": "ff9e6907",
   "metadata": {},
   "outputs": [
    {
     "data": {
      "text/plain": [
       "host                                 has453F  has501T  has486L\n",
       "Aonyx cinereus                       False    False    False            8\n",
       "Arctictis binturong                  False    False    False            1\n",
       "Canis lupus familiaris               False    False    False           60\n",
       "Chlorocebus sabaeus                  False    False    False            4\n",
       "Crocuta crocuta                      False    False    False            1\n",
       "Environment                          False    False    False         4692\n",
       "Environmental                        False    False    False          178\n",
       "Felis catus                          False    False    False           94\n",
       "                                              True     False            1\n",
       "                                     True     False    False            5\n",
       "Gorilla gorilla                      False    False    False           12\n",
       "Gorilla gorilla gorilla              False    False    False            3\n",
       "Hippopotamus amphibius               False    False    False            1\n",
       "Human                                False    False    False      9358492\n",
       "                                                       True           107\n",
       "                                              True     False         5553\n",
       "                                                       True             9\n",
       "                                     True     False    False         1482\n",
       "Laboratory derived                   False    False    False           16\n",
       "Manis javanica                       False    False    False            9\n",
       "                                              True     True             5\n",
       "Manis pentadactyla                   False    False    False            1\n",
       "Mesocricetus auratus                 False    False    False           26\n",
       "Mink                                 False    False    False          207\n",
       "                                                       True           220\n",
       "                                              True     False          192\n",
       "                                                       True            77\n",
       "                                     True     False    False          595\n",
       "Mus musculus                         False    False    False            4\n",
       "Mus musculus (BALB/c mice)           False    False    False            1\n",
       "Mustela furo                         False    False    False            1\n",
       "Mustela putorius furo                False    False    False            2\n",
       "Nasua nasua                          False    False    False            1\n",
       "Neogale vison                        False    False    False           39\n",
       "                                                       True             1\n",
       "                                              True     True             2\n",
       "                                     True     False    False            3\n",
       "Odocoileus virginianus               False    False    False          154\n",
       "                                              True     True             5\n",
       "Panthera leo                         False    False    False           74\n",
       "Panthera tigris                      False    False    False           22\n",
       "Panthera tigris jacksoni             False    False    False           13\n",
       "Panthera tigris sondaica             False    False    False            2\n",
       "Panthera tigris tigris               False    False    False            5\n",
       "Panthera uncia                       False    False    False            9\n",
       "Prionailurus bengalensis euptilurus  False    False    False            1\n",
       "Prionailurus viverrinus              False    False    False            1\n",
       "Puma concolor                        False    False    False            1\n",
       "Rhinolophus affinis                  False    False    True             1\n",
       "Rhinolophus bat                      False    False    False            1\n",
       "Rhinolophus malayanus                False    False    False            8\n",
       "Rhinolophus marshalli                False    False    False            1\n",
       "Rhinolophus pusillus                 False    False    False            2\n",
       "Rhinolophus shameli                  False    False    False            2\n",
       "Rhinolophus sinicus                  False    False    False            1\n",
       "Rhinolophus stheno                   False    False    False            2\n",
       "Name: strain, dtype: int64"
      ]
     },
     "execution_count": 28,
     "metadata": {},
     "output_type": "execute_result"
    }
   ],
   "source": [
    "muts_per_strain.groupby(['host','has453F','has501T','has486L'])['strain'].count()"
   ]
  },
  {
   "cell_type": "code",
   "execution_count": 11,
   "id": "e02e6a52",
   "metadata": {},
   "outputs": [
    {
     "data": {
      "text/plain": [
       "2085"
      ]
     },
     "execution_count": 11,
     "metadata": {},
     "output_type": "execute_result"
    }
   ],
   "source": [
    "len(muts_per_strain[muts_per_strain['has453F']==True])"
   ]
  },
  {
   "cell_type": "code",
   "execution_count": 14,
   "id": "b0cb3802",
   "metadata": {},
   "outputs": [
    {
     "data": {
      "text/plain": [
       "5844"
      ]
     },
     "execution_count": 14,
     "metadata": {},
     "output_type": "execute_result"
    }
   ],
   "source": [
    "len(muts_per_strain[muts_per_strain['has501T']==True])"
   ]
  },
  {
   "cell_type": "code",
   "execution_count": 15,
   "id": "4da6ca44",
   "metadata": {},
   "outputs": [
    {
     "data": {
      "text/plain": [
       "427"
      ]
     },
     "execution_count": 15,
     "metadata": {},
     "output_type": "execute_result"
    }
   ],
   "source": [
    "len(muts_per_strain[muts_per_strain['has486L']==True])"
   ]
  }
 ],
 "metadata": {
  "kernelspec": {
   "display_name": "Python 3 (ipykernel)",
   "language": "python",
   "name": "python3"
  },
  "language_info": {
   "codemirror_mode": {
    "name": "ipython",
    "version": 3
   },
   "file_extension": ".py",
   "mimetype": "text/x-python",
   "name": "python",
   "nbconvert_exporter": "python",
   "pygments_lexer": "ipython3",
   "version": "3.9.7"
  }
 },
 "nbformat": 4,
 "nbformat_minor": 5
}
