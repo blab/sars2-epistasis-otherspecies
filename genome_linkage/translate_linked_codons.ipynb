{
 "cells": [
  {
   "cell_type": "code",
   "execution_count": 41,
   "id": "5fd69d48",
   "metadata": {},
   "outputs": [],
   "source": [
    "import pandas as pd\n",
    "from Bio.Seq import Seq\n",
    "import matplotlib.pyplot as plt\n",
    "import seaborn as sns"
   ]
  },
  {
   "cell_type": "code",
   "execution_count": 111,
   "id": "79a267d9",
   "metadata": {},
   "outputs": [],
   "source": [
    "def translate_linked_codons(codons, muts_to_look_for, wildtype_genotype):\n",
    "    \n",
    "    #read in the nucleotide codons at the specified positions\n",
    "    #these are counts of all genotypes observed at these two positions from the entired aligned gisaid file\n",
    "    #format of file is codon1_codon2 | count\n",
    "    tsv_file = f'linkage_{codons[0]}-{codons[1]}.tsv'\n",
    "    linkage_df = pd.read_csv(tsv_file, sep='\\t', names=[f'{codons[0]}_{codons[1]}','count'], header=0)\n",
    "    \n",
    "    ambiguous_count = 0\n",
    "    aminoacid_linkage = []\n",
    "\n",
    "    ambiguous_bases = ['N','-','W','S','V','M','K','Y','R','H','D','B']\n",
    "\n",
    "    for k,v in linkage_df.iterrows():\n",
    "        codon1, codon2 = v[f'{codons[0]}_{codons[1]}'].split('_')\n",
    "        # only look at the definitive sequences, with no ambiguous bases\n",
    "        if any(b in codon1 for b in ambiguous_bases) or any(b in codon2 for b in ambiguous_bases):\n",
    "            ambiguous_count+=1\n",
    "        else:\n",
    "            aa1 = Seq(codon1).translate()\n",
    "            aa2 = Seq(codon2).translate()\n",
    "            aminoacid_linked = f'{aa1}_{aa2}'\n",
    "            aminoacid_linkage.append({'linked_aas':aminoacid_linked, 'count': v['count']})\n",
    "\n",
    "\n",
    "    aa_df = pd.DataFrame(aminoacid_linkage)\n",
    "    #aggregate same aa genotypes that were produced from different codons\n",
    "    aa_df = aa_df.groupby(aa_df['linked_aas'])['count'].sum().reset_index()\n",
    "    \n",
    "    aa_df[f'{codons[0]}'] = aa_df['linked_aas'].str.split('_').str[0]\n",
    "    aa_df[f'{codons[1]}'] = aa_df['linked_aas'].str.split('_').str[1]\n",
    "    \n",
    "    #give a summary \n",
    "    print(f'ALL OBSERVED SEQUENCES WITH {codons[0]}{muts_to_look_for[0]}:')\n",
    "    codon2genotypes_observed_with_mut1 = aa_df[aa_df[str(codons[0])]==muts_to_look_for[0]][str(codons[1])].unique()\n",
    "    for x2 in codon2genotypes_observed_with_mut1:\n",
    "        num_mut1_x2 = int(aa_df[(aa_df[str(codons[0])]==muts_to_look_for[0])&(aa_df[str(codons[1])]==x2)]['count'])\n",
    "        print(f'{codons[0]}{muts_to_look_for[0]} observed with {codons[1]}{x2}({num_mut1_x2})')\n",
    "    \n",
    "    print('\\n')\n",
    "    print(f'ALL OBSERVED SEQUENCES WITH {codons[1]}{muts_to_look_for[1]}:')\n",
    "    codon1genotypes_observed_with_mut2 = aa_df[aa_df[str(codons[1])]==muts_to_look_for[1]][str(codons[0])].unique()\n",
    "    for x1 in codon1genotypes_observed_with_mut2:\n",
    "        num_mut2_x1 = int(aa_df[(aa_df[str(codons[1])]==muts_to_look_for[1])&(aa_df[str(codons[0])]==x1)]['count'])\n",
    "        print(f'{codons[1]}{muts_to_look_for[1]} observed with {codons[0]}{x1}({num_mut2_x1})')\n",
    "    \n",
    "    seq_total = aa_df['count'].sum()\n",
    "    print('\\n')\n",
    "    print(f'TOTAL NUMBER OF SEQUENCES THAT ARE UNAMBIGUOUS AT {codons[0]} and {codons[1]}: {seq_total}')\n",
    "    \n",
    "    \n",
    "    \n",
    "    \n",
    "    "
   ]
  },
  {
   "cell_type": "code",
   "execution_count": 112,
   "id": "9e78bb76",
   "metadata": {},
   "outputs": [
    {
     "name": "stdout",
     "output_type": "stream",
     "text": [
      "ALL OBSERVED SEQUENCES WITH 453F:\n",
      "453F observed with 501N(2069)\n",
      "453F observed with 501Y(20)\n",
      "\n",
      "\n",
      "ALL OBSERVED SEQUENCES WITH 501T:\n",
      "501T observed with 453Y(5835)\n",
      "\n",
      "\n",
      "TOTAL NUMBER OF SEQUENCES THAT ARE UNAMBIGUOUS AT 453 and 501: 8410875\n"
     ]
    }
   ],
   "source": [
    "translate_linked_codons(codons = [453,501], muts_to_look_for = ['F', 'T'], wildtype_genotype = ['Y','N'])"
   ]
  },
  {
   "cell_type": "code",
   "execution_count": 113,
   "id": "b779c4b7",
   "metadata": {},
   "outputs": [
    {
     "name": "stdout",
     "output_type": "stream",
     "text": [
      "ALL OBSERVED SEQUENCES WITH 453F:\n",
      "453F observed with 486F(2092)\n",
      "453F observed with 486S(1)\n",
      "\n",
      "\n",
      "ALL OBSERVED SEQUENCES WITH 486L:\n",
      "486L observed with 453Y(425)\n",
      "\n",
      "\n",
      "TOTAL NUMBER OF SEQUENCES THAT ARE UNAMBIGUOUS AT 453 and 486: 8545522\n"
     ]
    }
   ],
   "source": [
    "translate_linked_codons(codons = [453,486], muts_to_look_for = ['F', 'L'], wildtype_genotype = ['Y','F'])"
   ]
  }
 ],
 "metadata": {
  "kernelspec": {
   "display_name": "Python 3 (ipykernel)",
   "language": "python",
   "name": "python3"
  },
  "language_info": {
   "codemirror_mode": {
    "name": "ipython",
    "version": 3
   },
   "file_extension": ".py",
   "mimetype": "text/x-python",
   "name": "python",
   "nbconvert_exporter": "python",
   "pygments_lexer": "ipython3",
   "version": "3.9.7"
  }
 },
 "nbformat": 4,
 "nbformat_minor": 5
}
